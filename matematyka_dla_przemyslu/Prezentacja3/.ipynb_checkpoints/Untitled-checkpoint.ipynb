{
 "cells": [
  {
   "cell_type": "code",
   "execution_count": 7,
   "id": "882159cb",
   "metadata": {
    "scrolled": true
   },
   "outputs": [
    {
     "name": "stdout",
     "output_type": "stream",
     "text": [
      "Collecting pyfolio-reloaded\n",
      "  Downloading pyfolio_reloaded-0.9.8-py3-none-any.whl (6.2 MB)\n",
      "\u001b[2K     \u001b[90m━━━━━━━━━━━━━━━━━━━━━━━━━━━━━━━━━━━━━━━━\u001b[0m \u001b[32m6.2/6.2 MB\u001b[0m \u001b[31m3.8 MB/s\u001b[0m eta \u001b[36m0:00:00\u001b[0m00:01\u001b[0m00:01\u001b[0m\n",
      "\u001b[?25hRequirement already satisfied: pandas<3.0,>=1.3.0 in /Users/tomasz/opt/anaconda3/lib/python3.9/site-packages (from pyfolio-reloaded) (1.4.4)\n",
      "Requirement already satisfied: scikit-learn>=0.16.1 in /Users/tomasz/opt/anaconda3/lib/python3.9/site-packages (from pyfolio-reloaded) (1.0.2)\n",
      "Requirement already satisfied: seaborn>=0.7.1 in /Users/tomasz/opt/anaconda3/lib/python3.9/site-packages (from pyfolio-reloaded) (0.11.2)\n",
      "Collecting empyrical-reloaded>=0.5.9\n",
      "  Downloading empyrical_reloaded-0.5.11-py3-none-any.whl (32 kB)\n",
      "Collecting numpy>=1.23.5\n",
      "  Downloading numpy-2.0.2-cp39-cp39-macosx_10_9_x86_64.whl (21.2 MB)\n",
      "\u001b[2K     \u001b[90m━━━━━━━━━━━━━━━━━━━━━━━━━━━━━━━━━━━━━━━━\u001b[0m \u001b[32m21.2/21.2 MB\u001b[0m \u001b[31m2.7 MB/s\u001b[0m eta \u001b[36m0:00:00\u001b[0m00:01\u001b[0m00:01\u001b[0m\n",
      "\u001b[?25hRequirement already satisfied: pytz>=2014.10 in /Users/tomasz/opt/anaconda3/lib/python3.9/site-packages (from pyfolio-reloaded) (2024.2)\n",
      "Requirement already satisfied: scipy>=0.14.0 in /Users/tomasz/opt/anaconda3/lib/python3.9/site-packages (from pyfolio-reloaded) (1.9.1)\n",
      "Requirement already satisfied: matplotlib>=1.4.0 in /Users/tomasz/opt/anaconda3/lib/python3.9/site-packages (from pyfolio-reloaded) (3.5.2)\n",
      "Requirement already satisfied: ipython>=3.2.3 in /Users/tomasz/opt/anaconda3/lib/python3.9/site-packages (from pyfolio-reloaded) (7.31.1)\n",
      "Requirement already satisfied: bottleneck>=1.3.0 in /Users/tomasz/opt/anaconda3/lib/python3.9/site-packages (from empyrical-reloaded>=0.5.9->pyfolio-reloaded) (1.3.5)\n",
      "Collecting peewee<3.17.4\n",
      "  Downloading peewee-3.17.3.tar.gz (3.0 MB)\n",
      "\u001b[2K     \u001b[90m━━━━━━━━━━━━━━━━━━━━━━━━━━━━━━━━━━━━━━━━\u001b[0m \u001b[32m3.0/3.0 MB\u001b[0m \u001b[31m2.7 MB/s\u001b[0m eta \u001b[36m0:00:00\u001b[0m00:01\u001b[0m00:01\u001b[0m\n",
      "\u001b[?25h  Installing build dependencies ... \u001b[?25ldone\n",
      "\u001b[?25h  Getting requirements to build wheel ... \u001b[?25ldone\n",
      "\u001b[?25h  Preparing metadata (pyproject.toml) ... \u001b[?25ldone\n",
      "\u001b[?25hRequirement already satisfied: decorator in /Users/tomasz/opt/anaconda3/lib/python3.9/site-packages (from ipython>=3.2.3->pyfolio-reloaded) (5.1.1)\n",
      "Requirement already satisfied: prompt-toolkit!=3.0.0,!=3.0.1,<3.1.0,>=2.0.0 in /Users/tomasz/opt/anaconda3/lib/python3.9/site-packages (from ipython>=3.2.3->pyfolio-reloaded) (3.0.20)\n",
      "Requirement already satisfied: setuptools>=18.5 in /Users/tomasz/opt/anaconda3/lib/python3.9/site-packages (from ipython>=3.2.3->pyfolio-reloaded) (63.4.1)\n",
      "Requirement already satisfied: backcall in /Users/tomasz/opt/anaconda3/lib/python3.9/site-packages (from ipython>=3.2.3->pyfolio-reloaded) (0.2.0)\n",
      "Requirement already satisfied: pickleshare in /Users/tomasz/opt/anaconda3/lib/python3.9/site-packages (from ipython>=3.2.3->pyfolio-reloaded) (0.7.5)\n",
      "Requirement already satisfied: jedi>=0.16 in /Users/tomasz/opt/anaconda3/lib/python3.9/site-packages (from ipython>=3.2.3->pyfolio-reloaded) (0.18.1)\n",
      "Requirement already satisfied: appnope in /Users/tomasz/opt/anaconda3/lib/python3.9/site-packages (from ipython>=3.2.3->pyfolio-reloaded) (0.1.2)\n",
      "Requirement already satisfied: matplotlib-inline in /Users/tomasz/opt/anaconda3/lib/python3.9/site-packages (from ipython>=3.2.3->pyfolio-reloaded) (0.1.6)\n",
      "Requirement already satisfied: traitlets>=4.2 in /Users/tomasz/opt/anaconda3/lib/python3.9/site-packages (from ipython>=3.2.3->pyfolio-reloaded) (5.1.1)\n",
      "Requirement already satisfied: pexpect>4.3 in /Users/tomasz/opt/anaconda3/lib/python3.9/site-packages (from ipython>=3.2.3->pyfolio-reloaded) (4.8.0)\n",
      "Requirement already satisfied: pygments in /Users/tomasz/opt/anaconda3/lib/python3.9/site-packages (from ipython>=3.2.3->pyfolio-reloaded) (2.11.2)\n",
      "Requirement already satisfied: kiwisolver>=1.0.1 in /Users/tomasz/opt/anaconda3/lib/python3.9/site-packages (from matplotlib>=1.4.0->pyfolio-reloaded) (1.4.2)\n",
      "Requirement already satisfied: pillow>=6.2.0 in /Users/tomasz/opt/anaconda3/lib/python3.9/site-packages (from matplotlib>=1.4.0->pyfolio-reloaded) (9.2.0)\n",
      "Requirement already satisfied: fonttools>=4.22.0 in /Users/tomasz/opt/anaconda3/lib/python3.9/site-packages (from matplotlib>=1.4.0->pyfolio-reloaded) (4.25.0)\n",
      "Requirement already satisfied: pyparsing>=2.2.1 in /Users/tomasz/opt/anaconda3/lib/python3.9/site-packages (from matplotlib>=1.4.0->pyfolio-reloaded) (3.0.9)\n",
      "Requirement already satisfied: packaging>=20.0 in /Users/tomasz/opt/anaconda3/lib/python3.9/site-packages (from matplotlib>=1.4.0->pyfolio-reloaded) (21.3)\n",
      "Requirement already satisfied: python-dateutil>=2.7 in /Users/tomasz/opt/anaconda3/lib/python3.9/site-packages (from matplotlib>=1.4.0->pyfolio-reloaded) (2.8.2)\n",
      "Requirement already satisfied: cycler>=0.10 in /Users/tomasz/opt/anaconda3/lib/python3.9/site-packages (from matplotlib>=1.4.0->pyfolio-reloaded) (0.11.0)\n",
      "Requirement already satisfied: joblib>=0.11 in /Users/tomasz/opt/anaconda3/lib/python3.9/site-packages (from scikit-learn>=0.16.1->pyfolio-reloaded) (1.1.0)\n",
      "Requirement already satisfied: threadpoolctl>=2.0.0 in /Users/tomasz/opt/anaconda3/lib/python3.9/site-packages (from scikit-learn>=0.16.1->pyfolio-reloaded) (2.2.0)\n",
      "Collecting numpy>=1.23.5\n",
      "  Downloading numpy-1.24.4-cp39-cp39-macosx_10_9_x86_64.whl (19.8 MB)\n",
      "\u001b[2K     \u001b[90m━━━━━━━━━━━━━━━━━━━━━━━━━━━━━━━━━━━━━━━━\u001b[0m \u001b[32m19.8/19.8 MB\u001b[0m \u001b[31m3.3 MB/s\u001b[0m eta \u001b[36m0:00:00\u001b[0m00:01\u001b[0m00:01\u001b[0m\n",
      "\u001b[?25hRequirement already satisfied: parso<0.9.0,>=0.8.0 in /Users/tomasz/opt/anaconda3/lib/python3.9/site-packages (from jedi>=0.16->ipython>=3.2.3->pyfolio-reloaded) (0.8.3)\n",
      "Requirement already satisfied: ptyprocess>=0.5 in /Users/tomasz/opt/anaconda3/lib/python3.9/site-packages (from pexpect>4.3->ipython>=3.2.3->pyfolio-reloaded) (0.7.0)\n",
      "Requirement already satisfied: wcwidth in /Users/tomasz/opt/anaconda3/lib/python3.9/site-packages (from prompt-toolkit!=3.0.0,!=3.0.1,<3.1.0,>=2.0.0->ipython>=3.2.3->pyfolio-reloaded) (0.2.5)\n",
      "Requirement already satisfied: six>=1.5 in /Users/tomasz/opt/anaconda3/lib/python3.9/site-packages (from python-dateutil>=2.7->matplotlib>=1.4.0->pyfolio-reloaded) (1.16.0)\n",
      "Building wheels for collected packages: peewee\n",
      "  Building wheel for peewee (pyproject.toml) ... \u001b[?25ldone\n",
      "\u001b[?25h  Created wheel for peewee: filename=peewee-3.17.3-cp39-cp39-macosx_10_9_x86_64.whl size=253578 sha256=6a6f4897a7baf89b303e231869ca498568f2fd449cb94538dbcba5a3dc6c3be4\n",
      "  Stored in directory: /Users/tomasz/Library/Caches/pip/wheels/a7/64/49/81f05b55b5fcafe2ea6316aac808b15228715abc3d2632a240\n",
      "Successfully built peewee\n",
      "Installing collected packages: peewee, numpy, empyrical-reloaded, pyfolio-reloaded\n",
      "  Attempting uninstall: peewee\n",
      "    Found existing installation: peewee 3.17.8\n",
      "    Uninstalling peewee-3.17.8:\n",
      "      Successfully uninstalled peewee-3.17.8\n",
      "  Attempting uninstall: numpy\n",
      "    Found existing installation: numpy 1.21.5\n",
      "    Uninstalling numpy-1.21.5:\n",
      "      Successfully uninstalled numpy-1.21.5\n",
      "\u001b[31mERROR: pip's dependency resolver does not currently take into account all the packages that are installed. This behaviour is the source of the following dependency conflicts.\n",
      "daal4py 2021.6.0 requires daal==2021.4.0, which is not installed.\n",
      "numba 0.55.1 requires numpy<1.22,>=1.18, but you have numpy 1.24.4 which is incompatible.\u001b[0m\u001b[31m\n",
      "\u001b[0mSuccessfully installed empyrical-reloaded-0.5.11 numpy-1.24.4 peewee-3.17.3 pyfolio-reloaded-0.9.8\n"
     ]
    }
   ],
   "source": [
    "import sys\n",
    "# !{sys.executable} -m pip install pyfolio\n",
    "!{sys.executable} -m pip install pyfolio-reloaded"
   ]
  },
  {
   "cell_type": "code",
   "execution_count": 1,
   "id": "2649d42a",
   "metadata": {},
   "outputs": [
    {
     "name": "stderr",
     "output_type": "stream",
     "text": [
      "/Users/tomasz/opt/anaconda3/lib/python3.9/site-packages/pyfolio/pos.py:25: UserWarning: Module \"zipline.assets\" not found; multipliers will not be applied to position notionals.\n",
      "  warnings.warn(\n"
     ]
    }
   ],
   "source": [
    "import numpy as np\n",
    "import matplotlib.pyplot as plt\n",
    "import pandas as pd\n",
    "import pyfolio as pf\n",
    "import yfinance as yf\n",
    "import warnings\n",
    "warnings.filterwarnings(\"ignore\")\n",
    "%matplotlib inline\n"
   ]
  },
  {
   "cell_type": "code",
   "execution_count": 46,
   "id": "f65bd862",
   "metadata": {
    "scrolled": true
   },
   "outputs": [
    {
     "name": "stdout",
     "output_type": "stream",
     "text": [
      "Wskaźnik Sharpe'a portfela 2 (tylko GOOGL): 0.31\n"
     ]
    }
   ],
   "source": [
    "files = ['nvda.us.txt', 'intc.us.txt', 'msft.us.txt', 'googl.us.txt']\n",
    "labels = ['NVDA', 'INTC', 'MSFT', 'GOOGL']\n",
    "\n",
    "# Tworzenie pustego DataFrame\n",
    "data = pd.DataFrame()\n",
    "\n",
    "# Iteracja po plikach i ładowanie danych\n",
    "for file, label in zip(files, labels):\n",
    "    df = pd.read_csv('data/'+file, usecols=['Date', 'Close'])  # Wczytanie tylko daty i ceny zamknięcia\n",
    "    df['Date'] = pd.to_datetime(df['Date']) # Konwersja daty\n",
    "    df.set_index('Date', inplace=True)  # Ustawienie daty jako indeksu\n",
    "    data[label] = df['Close']  # Dodanie kolumny z cenami zamknięcia\n",
    "\n",
    "# Filtrowanie zakresu lat 2006-2015\n",
    "data = data.loc['2006-01-01':'2015-12-31']\n",
    "# Wyznaczenie zwrotów\n",
    "returns = data.pct_change()\n",
    "# Pominięcie pierwszego wiersza (bo NaN)\n",
    "returns = returns.iloc[1:]\n",
    "\n",
    "T = 10\n",
    "# Obliczenie macierzy kowariancji\n",
    "cov_matrix = (returns.cov())*252\n",
    "\n",
    "weights2 = np.array([0, 0, 0, 1])\n",
    "var_pf2 = np.dot(weights2.T, np.dot(cov_matrix, weights2))\n",
    "stddev_pf2 = np.sqrt(var_pf2)\n",
    "initial_value_googl = data['GOOGL'].iloc[0]\n",
    "final_value_googl = data['GOOGL'].iloc[-1]\n",
    "annualized_return_googl = (final_value_googl / initial_value_googl) ** (1 / T) - 1\n",
    "s2 = (annualized_return_googl-rfr)/stddev_pf2\n",
    "print(f\"Wskaźnik Sharpe'a portfela 2 (tylko GOOGL): {s2:.2f}\")"
   ]
  },
  {
   "cell_type": "code",
   "execution_count": null,
   "id": "c1689971",
   "metadata": {},
   "outputs": [],
   "source": [
    "pf.timeseries"
   ]
  },
  {
   "cell_type": "code",
   "execution_count": 34,
   "id": "3f4aac21",
   "metadata": {},
   "outputs": [
    {
     "data": {
      "text/plain": [
       "0.13587002086986666"
      ]
     },
     "execution_count": 34,
     "metadata": {},
     "output_type": "execute_result"
    }
   ],
   "source": [
    "annualized_return_googl"
   ]
  },
  {
   "cell_type": "code",
   "execution_count": 35,
   "id": "727aee9a",
   "metadata": {},
   "outputs": [
    {
     "data": {
      "text/plain": [
       "NVDA     0.484387\n",
       "INTC     0.299135\n",
       "MSFT     0.281692\n",
       "GOOGL    0.310730\n",
       "dtype: float64"
      ]
     },
     "execution_count": 35,
     "metadata": {},
     "output_type": "execute_result"
    }
   ],
   "source": [
    "returns.std()*np.sqrt(252)"
   ]
  },
  {
   "cell_type": "code",
   "execution_count": 36,
   "id": "8eb01d5a",
   "metadata": {},
   "outputs": [
    {
     "data": {
      "text/plain": [
       "0.31073008182760486"
      ]
     },
     "execution_count": 36,
     "metadata": {},
     "output_type": "execute_result"
    }
   ],
   "source": [
    "stddev_pf2"
   ]
  },
  {
   "cell_type": "code",
   "execution_count": 5,
   "id": "7a1baa56",
   "metadata": {
    "scrolled": true
   },
   "outputs": [
    {
     "data": {
      "text/plain": [
       "Date\n",
       "2006-01-03    217.62\n",
       "2006-01-04    222.62\n",
       "2006-01-05    225.62\n",
       "2006-01-06    232.83\n",
       "2006-01-09    233.45\n",
       "Name: GOOGL, dtype: float64"
      ]
     },
     "execution_count": 5,
     "metadata": {},
     "output_type": "execute_result"
    }
   ],
   "source": [
    "data.GOOGL.head()"
   ]
  },
  {
   "cell_type": "code",
   "execution_count": 22,
   "id": "a6411963",
   "metadata": {},
   "outputs": [
    {
     "data": {
      "text/plain": [
       "<AxesSubplot:xlabel='Date'>"
      ]
     },
     "execution_count": 22,
     "metadata": {},
     "output_type": "execute_result"
    },
    {
     "data": {
      "image/png": "[encoded data removed]",
      "text/plain": [
       "<Figure size 640x480 with 1 Axes>"
      ]
     },
     "metadata": {},
     "output_type": "display_data"
    }
   ],
   "source": [
    "data.GOOGL.plot()"
   ]
  },
  {
   "cell_type": "code",
   "execution_count": 115,
   "id": "510c51fb",
   "metadata": {},
   "outputs": [
    {
     "data": {
      "text/plain": [
       "0.7023121928525282"
      ]
     },
     "execution_count": 115,
     "metadata": {},
     "output_type": "execute_result"
    }
   ],
   "source": [
    "rfr = 0.04\n",
    "target_return = 0\n",
    "returns = data.GOOGL.pct_change()\n",
    "negative_returns = returns.loc[returns < target_return]\n",
    "expected_return = returns.mean()\n",
    "down_std = negative_returns.std()\n",
    "sortino_ratio = ((expected_return+1)**252-1 - rfr) / (down_std*np.sqrt(252))\n",
    "# sortino_ratio = (expected_return*252 - rfr) / (down_std*np.sqrt(252))\n",
    "sortino_ratio"
   ]
  },
  {
   "cell_type": "code",
   "execution_count": 93,
   "id": "1c372b09",
   "metadata": {},
   "outputs": [
    {
     "data": {
      "text/plain": [
       "0.19167100625299938"
      ]
     },
     "execution_count": 93,
     "metadata": {},
     "output_type": "execute_result"
    }
   ],
   "source": [
    "(expected_return+1)**252-1"
   ]
  },
  {
   "cell_type": "code",
   "execution_count": 102,
   "id": "ef321161",
   "metadata": {},
   "outputs": [
    {
     "data": {
      "text/plain": [
       "252"
      ]
     },
     "execution_count": 102,
     "metadata": {},
     "output_type": "execute_result"
    }
   ],
   "source": [
    "ep.stats.annualization_factor('daily', None)"
   ]
  },
  {
   "cell_type": "code",
   "execution_count": 95,
   "id": "51c85505",
   "metadata": {},
   "outputs": [
    {
     "data": {
      "text/plain": [
       "0.013604171224850024"
      ]
     },
     "execution_count": 95,
     "metadata": {},
     "output_type": "execute_result"
    }
   ],
   "source": [
    "down_std"
   ]
  },
  {
   "cell_type": "code",
   "execution_count": 57,
   "id": "6753701a",
   "metadata": {},
   "outputs": [
    {
     "data": {
      "text/plain": [
       "0.039530348081180895"
      ]
     },
     "execution_count": 57,
     "metadata": {},
     "output_type": "execute_result"
    }
   ],
   "source": [
    "rf_daily = rfr / 252\n",
    "    \n",
    "# Excess returns over risk-free rate\n",
    "excess_returns = returns - rf_daily\n",
    "\n",
    "# Compute downside deviation (standard deviation of negative excess returns)\n",
    "downside_returns = excess_returns[excess_returns < 0]\n",
    "downside_deviation = np.std(downside_returns, ddof=1)  # Unbiased estimator (ddof=1)\n",
    "\n",
    "# Mean excess return\n",
    "mean_excess_return = np.mean(excess_returns)\n",
    "\n",
    "mean_excess_return / downside_deviation"
   ]
  },
  {
   "cell_type": "code",
   "execution_count": 110,
   "id": "c64f589c",
   "metadata": {},
   "outputs": [
    {
     "data": {
      "text/plain": [
       "0.8546444489711593"
      ]
     },
     "execution_count": 110,
     "metadata": {},
     "output_type": "execute_result"
    }
   ],
   "source": [
    "pf.timeseries.sortino_ratio(returns)"
   ]
  },
  {
   "cell_type": "code",
   "execution_count": 68,
   "id": "f32a3bec",
   "metadata": {},
   "outputs": [
    {
     "data": {
      "text/html": [
       "<table border=\"1\" class=\"dataframe\">\n",
       "  <thead>\n",
       "    <tr style=\"text-align: right;\"><th>Start date</th><td colspan=2>2006-01-03</td></tr>\n",
       "    <tr style=\"text-align: right;\"><th>End date</th><td colspan=2>2015-12-31</td></tr>\n",
       "    <tr style=\"text-align: right;\"><th>Total months</th><td colspan=2>119</td></tr>\n",
       "    <tr style=\"text-align: right;\">\n",
       "      <th></th>\n",
       "      <th>Backtest</th>\n",
       "    </tr>\n",
       "  </thead>\n",
       "  <tbody>\n",
       "    <tr>\n",
       "      <th>Annual return</th>\n",
       "      <td>13.604%</td>\n",
       "    </tr>\n",
       "    <tr>\n",
       "      <th>Cumulative returns</th>\n",
       "      <td>257.509%</td>\n",
       "    </tr>\n",
       "    <tr>\n",
       "      <th>Annual volatility</th>\n",
       "      <td>31.073%</td>\n",
       "    </tr>\n",
       "    <tr>\n",
       "      <th>Sharpe ratio</th>\n",
       "      <td>0.56</td>\n",
       "    </tr>\n",
       "    <tr>\n",
       "      <th>Calmar ratio</th>\n",
       "      <td>0.21</td>\n",
       "    </tr>\n",
       "    <tr>\n",
       "      <th>Stability</th>\n",
       "      <td>0.76</td>\n",
       "    </tr>\n",
       "    <tr>\n",
       "      <th>Max drawdown</th>\n",
       "      <td>-65.295%</td>\n",
       "    </tr>\n",
       "    <tr>\n",
       "      <th>Omega ratio</th>\n",
       "      <td>1.11</td>\n",
       "    </tr>\n",
       "    <tr>\n",
       "      <th>Sortino ratio</th>\n",
       "      <td>0.85</td>\n",
       "    </tr>\n",
       "    <tr>\n",
       "      <th>Skew</th>\n",
       "      <td>NaN</td>\n",
       "    </tr>\n",
       "    <tr>\n",
       "      <th>Kurtosis</th>\n",
       "      <td>NaN</td>\n",
       "    </tr>\n",
       "    <tr>\n",
       "      <th>Tail ratio</th>\n",
       "      <td>1.01</td>\n",
       "    </tr>\n",
       "    <tr>\n",
       "      <th>Daily value at risk</th>\n",
       "      <td>-3.845%</td>\n",
       "    </tr>\n",
       "  </tbody>\n",
       "</table>"
      ],
      "text/plain": [
       "<IPython.core.display.HTML object>"
      ]
     },
     "metadata": {},
     "output_type": "display_data"
    }
   ],
   "source": [
    "pf.show_perf_stats(returns)"
   ]
  },
  {
   "cell_type": "code",
   "execution_count": 71,
   "id": "84cc6746",
   "metadata": {},
   "outputs": [
    {
     "data": {
      "text/plain": [
       "0.5645335460778815"
      ]
     },
     "execution_count": 71,
     "metadata": {},
     "output_type": "execute_result"
    }
   ],
   "source": [
    "pf.timeseries.sharpe_ratio(returns, 0)"
   ]
  },
  {
   "cell_type": "code",
   "execution_count": 72,
   "id": "2cff7af5",
   "metadata": {},
   "outputs": [
    {
     "data": {
      "text/plain": [
       "<AxesSubplot:xlabel='Date'>"
      ]
     },
     "execution_count": 72,
     "metadata": {},
     "output_type": "execute_result"
    },
    {
     "data": {
      "image/png": "[encoded data removed]",
      "text/plain": [
       "<Figure size 640x480 with 1 Axes>"
      ]
     },
     "metadata": {},
     "output_type": "display_data"
    }
   ],
   "source": [
    "returns.plot()"
   ]
  }
 ],
 "metadata": {
  "kernelspec": {
   "display_name": "Python 3 (ipykernel)",
   "language": "python",
   "name": "python3"
  },
  "language_info": {
   "codemirror_mode": {
    "name": "ipython",
    "version": 3
   },
   "file_extension": ".py",
   "mimetype": "text/x-python",
   "name": "python",
   "nbconvert_exporter": "python",
   "pygments_lexer": "ipython3",
   "version": "3.9.13"
  }
 },
 "nbformat": 4,
 "nbformat_minor": 5
}
