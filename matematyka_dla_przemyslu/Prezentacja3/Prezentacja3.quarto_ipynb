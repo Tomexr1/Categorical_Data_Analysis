{
  "cells": [
    {
      "cell_type": "markdown",
      "metadata": {},
      "source": [
        "---\n",
        "title: \"Matematyczne modelowanie procesów decyzyjnych w finansach\"\n",
        "author: \"Rafał Głodek, Joanna Kusy, Oliwia Makuch, Tomasz Srebniak\"\n",
        "format:\n",
        "  revealjs:\n",
        "    scrollable: true\n",
        "    transition: slide\n",
        "    theme: serif\n",
        "    self-contained: true\n",
        "    header-includes:\n",
        "      - |\n",
        "        <style>\n",
        "          .justified-text {\n",
        "            text-align: justify;\n",
        "          }\n",
        "          .reveal section {\n",
        "              padding-right: 30px; /* Dodaj margines po prawej stronie */\n",
        "            }\n",
        "        </style>\n",
        "title-slide-attributes:\n",
        "    data-background-image: \"img_prezentacja2.jpg\"\n",
        "    data-background-size: cover\n",
        "    data-background-opacity: \"0.65\"\n",
        "    data-background-color: \"#000000\"\n",
        "jupyter: python3\n",
        "---\n",
        "\n",
        "\n",
        "## Quarto\n",
        "\n",
        "```{r setup}\n",
        " # library(reticulate)\n",
        " # use_virtualenv(\"./venv\", required = TRUE)\n",
        "```"
      ],
      "id": "b53bd56d"
    },
    {
      "cell_type": "code",
      "metadata": {},
      "source": [
        "# import numpy as np # Load numpy  package \n",
        "# import pandas as pd # Load pandas package  \n",
        "# import statsmodels.api as sm"
      ],
      "id": "d85c63c1",
      "execution_count": null,
      "outputs": []
    },
    {
      "cell_type": "markdown",
      "metadata": {},
      "source": [
        "## Bullets\n",
        "\n",
        "When you click the **Render** button a document will be generated that includes:\n",
        "\n",
        "-   Content authored with markdown\n",
        "-   Output from executable code\n",
        "\n",
        "## Code\n",
        "\n",
        "When you click the **Render** button a presentation will be generated that includes both content and the output of embedded code. You can embed code like this:\n",
        "\n",
        "\n",
        "```{r}\n",
        "1 + 1\n",
        "```"
      ],
      "id": "d2ce24ab"
    }
  ],
  "metadata": {
    "kernelspec": {
      "display_name": "Python 3",
      "language": "python",
      "name": "python3"
    }
  },
  "nbformat": 4,
  "nbformat_minor": 5
}