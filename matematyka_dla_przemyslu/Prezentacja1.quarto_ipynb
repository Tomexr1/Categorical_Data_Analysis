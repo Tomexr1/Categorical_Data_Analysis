{
  "cells": [
    {
      "cell_type": "markdown",
      "metadata": {},
      "source": [
        "---\n",
        "title: \"Matematyczne modelowanie procesów decyzyjnych w finansach\"\n",
        "author: Rafał Głodek, Joanna Kusy, Oliwia Makuch, Tomasz Srebniak\n",
        "execute: \n",
        "  echo: true\n",
        "format:\n",
        "  revealjs:\n",
        "    transition: slide\n",
        "    theme: serif\n",
        "    self-contained: true\n",
        "editor: visual\n",
        "title-slide-attributes:\n",
        "    data-background-image: \"background.png\"\n",
        "    data-background-size: cover\n",
        "    data-background-opacity: \"0.65\"\n",
        "    data-background-color: \"#000000\"\n",
        "---\n",
        "\n",
        "\n",
        "## Plan prezentacji\n",
        "\n",
        "-   Część 1: Analiza portfela inwestycyjnego\n",
        "-   Część 2: Model GARCH\n",
        "\n",
        "## Analiza portfela inwestycyjnego\n",
        "\n",
        "Analiza portfela inwestycyjnego to zbiór metod i narzędzi służących do oceny efektywności inwestycji w różne aktywa finansowe.\n",
        "\n",
        "-   Wstęp do analizy portfela inwestycyjnego\n",
        "-   Ryzyko i zwroty\n",
        "-   Ocena wydajności portfela\n",
        "-   Optymalizacja portfela\n",
        "\n",
        "## Model GARCH\n",
        "\n",
        "GARCH (Generalized Autoregressive Conditional Heteroskedasticity) to model służący do przewidywania zmienności cen aktywów finansowych.\n",
        "\n",
        "\\begin{equation}\n",
        "GARCH(p, q): \\sigma_t^2 = \\omega + \\sum_{i=1}^p\\alpha_i \\varepsilon_{t-i}^2 + \\sum_{j=1}^q\\beta_j \\sigma_{t-j}^2\n",
        "\\end{equation}\n",
        "\n",
        "-   Wprowadzenie do modelu GARCH\n",
        "-   Konfiguracja w Pythonie\n",
        "-   Ocena wydajności modelu\n",
        "-   Przykłady zastosowań\n",
        "\n",
        "## Wstęp do analizy portfela inwestycyjnego\n",
        "\n",
        "**Portfel inwestycyjny** - zbiór aktywów posiadanych przez osobę fizyczną.\n",
        "\n",
        "**Skład**:\n",
        "\n",
        "-   akcje,\n",
        "-   obligacje,\n",
        "-   towary,\n",
        "-   fundusze,\n",
        "-   ...\n",
        "\n",
        "## Dywersyfikacja portfela\n",
        "\n",
        "Polega na inwestowaniu w różne rodzaje aktywów w celu zmniejszenia ryzyka inwestycyjnego.\n",
        "\n",
        "### Typowe strategie inwestycyjne\n",
        "\n",
        "![](equal_cap_weight.jpeg){fig-align=\"center\" width=\"432\"}\n",
        "\n",
        "## Stopy zwroty\n",
        "\n",
        "Zwroty z portfela to zmiany wartości w czasie.\n",
        "\n",
        "$$\n",
        "r_t = \\frac{V_t - V_{t - 1}}{V_{t - 1}}\n",
        "$$\n",
        "\n",
        "W naszym portfelu mamy:\n",
        "\n",
        "-   akcje *General Electric*, waga: 0.5;\n",
        "-   akcje *JP Morgan*, waga: 0.2;\n",
        "-   akcje *Microsoft*, waga: 0.2;\n",
        "-   akcje *Proctor & Gamble*, waga: 0.1.\n",
        "\n",
        "## Stopy zwrotu\n"
      ],
      "id": "6e72ccf4"
    },
    {
      "cell_type": "code",
      "metadata": {},
      "source": [
        "#| echo: false\n",
        "import pandas as pd\n",
        "import numpy as np\n",
        "import matplotlib.pyplot as plt\n",
        "import matplotlib\n",
        "data = pd.read_csv(\"small_portfolio.csv\")\n",
        "data.set_index('date', inplace=True)"
      ],
      "id": "73725e40",
      "execution_count": null,
      "outputs": []
    },
    {
      "cell_type": "code",
      "metadata": {},
      "source": [
        "returns = data.pct_change()"
      ],
      "id": "f8774d12",
      "execution_count": null,
      "outputs": []
    },
    {
      "cell_type": "code",
      "metadata": {},
      "source": [
        "#| echo: false\n",
        "returns.head(3)"
      ],
      "id": "65ff8b42",
      "execution_count": null,
      "outputs": []
    },
    {
      "cell_type": "markdown",
      "metadata": {},
      "source": [
        "## Średnia stopa zwrotu (mean returns)\n",
        "\n",
        "Szacowany zysk lub strata, jaką inwestor spodziewa się osiągnąć z portfela inwestycji.\n"
      ],
      "id": "a1efb506"
    },
    {
      "cell_type": "code",
      "metadata": {},
      "source": [
        "# średni zwrot dla każdej akcji\n",
        "meanDailyReturns = returns.mean()\n",
        "# uwzględniamy wagi\n",
        "weights = np.array([0.5, 0.2, 0.2, 0.1])"
      ],
      "id": "6d5c8532",
      "execution_count": null,
      "outputs": []
    },
    {
      "cell_type": "markdown",
      "metadata": {},
      "source": [
        "Estymowany zysk/strata\n"
      ],
      "id": "8b2a3cdb"
    },
    {
      "cell_type": "code",
      "metadata": {},
      "source": [
        "np.sum(meanDailyReturns * weights)"
      ],
      "id": "14184b59",
      "execution_count": null,
      "outputs": []
    },
    {
      "cell_type": "markdown",
      "metadata": {},
      "source": [
        "## Skumulowana stopa zwrotu (cumulative returns)\n",
        "\n",
        "Łączny zwrot z portfela inwestycyjnego w danym okresie.\n"
      ],
      "id": "16fe7e24"
    },
    {
      "cell_type": "code",
      "metadata": {},
      "source": [
        "# dodajemy kolumnę zawierającą zwrot z całego portfela\n",
        "returns['Portfolio']= returns.dot(weights)\n",
        "# liczymy skumulowany zwrot\n",
        "daily_cum_ret = (1 + returns).cumprod()"
      ],
      "id": "105238b9",
      "execution_count": null,
      "outputs": []
    },
    {
      "cell_type": "code",
      "metadata": {},
      "source": [
        "#| echo: false\n",
        "#| warning: false\n",
        "#| error: false\n",
        "# Plot the portfolio cumulative returns only\n",
        "fig, ax = plt.subplots()\n",
        "ax.plot(daily_cum_ret.index, daily_cum_ret.Portfolio, color='purple', label=\"portfolio\")\n",
        "ax.xaxis.set_major_locator(matplotlib.dates.YearLocator())\n",
        "plt.legend()"
      ],
      "id": "d02ec335",
      "execution_count": null,
      "outputs": []
    },
    {
      "cell_type": "code",
      "metadata": {
        "results": "hide"
      },
      "source": [
        "ax.plot(daily_cum_ret.index, daily_cum_ret.Portfolio)"
      ],
      "id": "8c25e102",
      "execution_count": null,
      "outputs": []
    },
    {
      "cell_type": "markdown",
      "metadata": {},
      "source": [
        "## Ryzyko portfela – wariancja\n",
        "\n",
        "Miara zmienności portfela inwestycyjnego. $$\n",
        "\\sigma_{pf}^2=\n",
        "\\begin{bmatrix}\n",
        "w_1 & w_2 & w_3 & w_4\n",
        "\\end{bmatrix}\n",
        "\\begin{bmatrix}\n",
        "\\sigma_1^2 & \\sigma_{1,2} & \\sigma_{1,3} & \\sigma_{1,4} \\\\ \n",
        "\\sigma_{2,1} & \\sigma_{2}^2 & \\sigma_{2,3} & \\sigma_{2,4} \\\\ \n",
        "\\sigma_{3,1} & \\sigma_{3,2} & \\sigma_{3}^2 & \\sigma_{3,4} \\\\ \n",
        "\\sigma_{4,1} & \\sigma_{4,2} & \\sigma_{4,3} & \\sigma_{4}^2\n",
        "\\end{bmatrix}\n",
        "\\begin{bmatrix}\n",
        "w_1 \\\\\n",
        "w_2 \\\\\n",
        "w_3 \\\\\n",
        "w_4 \n",
        "\\end{bmatrix}\n",
        "$$ Bierze pod uwagę:\n",
        "\n",
        "-   wagi aktywów,\n",
        "-   wariancję aktywów,\n",
        "-   kowariancję między aktywami."
      ],
      "id": "829e6a34"
    }
  ],
  "metadata": {
    "kernelspec": {
      "display_name": "Python 3",
      "language": "python",
      "name": "python3"
    }
  },
  "nbformat": 4,
  "nbformat_minor": 5
}